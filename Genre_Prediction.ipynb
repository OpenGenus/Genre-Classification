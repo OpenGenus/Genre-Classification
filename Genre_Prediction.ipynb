{
  "nbformat": 4,
  "nbformat_minor": 0,
  "metadata": {
    "colab": {
      "provenance": []
    },
    "kernelspec": {
      "name": "python3",
      "display_name": "Python 3"
    },
    "language_info": {
      "name": "python"
    }
  },
  "cells": [
    {
      "cell_type": "code",
      "execution_count": null,
      "metadata": {
        "id": "RREbK1uLcOGc"
      },
      "outputs": [],
      "source": [
        "from google.colab import files\n",
        "\n",
        "# Upload the kaggle.json file\n",
        "uploaded = files.upload()\n",
        "\n",
        "# Move the uploaded file to the required directory\n",
        "!mkdir -p /root/.kaggle\n",
        "!mv kaggle.json /root/.kaggle/"
      ]
    },
    {
      "cell_type": "code",
      "source": [
        "# Download and unzip dataset\n",
        "!kaggle datasets download -d neisse/scrapped-lyrics-from-6-genres\n",
        "!unzip /content/scrapped-lyrics-from-6-genres.zip"
      ],
      "metadata": {
        "id": "yjaFucjKcZrP"
      },
      "execution_count": null,
      "outputs": []
    },
    {
      "cell_type": "code",
      "source": [
        "import pandas as pd\n",
        "\n",
        "# Load dataset containing lyrics\n",
        "df_lyrics = pd.read_csv('/content/lyrics-data.csv')\n",
        "\n",
        "# Load dataset containing artist information\n",
        "df_genre = pd.read_csv('/content/artists-data.csv')\n",
        "\n",
        "# Merging datasets\n",
        "df_merged = pd.merge(df_lyrics, df_genre, left_on='ALink', right_on='Link', how='inner')\n",
        "\n",
        "# Drop rows with missing values in relevant columns\n",
        "df_merged = df_merged[['Lyric', 'language', 'Genres']].dropna()\n",
        "\n",
        "# Filtering out rows where the language is not English or Spanish\n",
        "df_merged = df_merged[df_merged['language'] != 'pt']\n",
        "\n",
        "print(df_merged.head())\n"
      ],
      "metadata": {
        "id": "199SIx7ZfOTD"
      },
      "execution_count": null,
      "outputs": []
    },
    {
      "cell_type": "code",
      "source": [
        "# Saving the merged data to csv\n",
        "df_merged.to_csv('/content/merged_lyrics_data.csv', index=False)  # Adjust output filename as needed\n",
        "\n",
        "print(\"Merged data saved to merged_lyrics_data.csv\")"
      ],
      "metadata": {
        "id": "sylKhO44g_VO"
      },
      "execution_count": null,
      "outputs": []
    },
    {
      "cell_type": "code",
      "source": [
        "from sklearn.feature_extraction.text import TfidfVectorizer\n",
        "from sklearn.linear_model import LogisticRegression\n",
        "from sklearn.model_selection import train_test_split\n",
        "\n",
        "df_merged = pd.read_csv('/content/merged_lyrics_data.csv').sample(frac=1.0, random_state=42)\n",
        "\n",
        "# Initialize TF-IDF vectorizer\n",
        "tfidf_vectorizer = TfidfVectorizer(max_features=5000)\n",
        "\n",
        "# Fit TF-IDF vectorizer on the merged dataset\n",
        "X = tfidf_vectorizer.fit_transform(df_merged['Lyric'])\n",
        "y = df_merged['Genres']\n",
        "\n",
        "# Split the data into training and testing sets\n",
        "X_train, X_test, y_train, y_test = train_test_split(X, y, test_size=0.2, random_state=42)\n",
        "\n",
        "# Initialize and train Logistic Regression model\n",
        "model = LogisticRegression(max_iter=5000)\n",
        "model.fit(X_train, y_train)\n",
        "\n",
        "# Now we evaluate the model's accuracy\n",
        "accuracy = model.score(X_test, y_test)\n",
        "print(\"Accuracy:\", accuracy)"
      ],
      "metadata": {
        "id": "fr1u_klBjfFO"
      },
      "execution_count": null,
      "outputs": []
    },
    {
      "cell_type": "code",
      "source": [
        "# Function to predict genre for given lyrics\n",
        "def predict_genre(lyrics):\n",
        "    lyrics_vectorized = tfidf_vectorizer.transform([lyrics])\n",
        "    genre = model.predict(lyrics_vectorized)\n",
        "    return genre[0]\n",
        "\n",
        "# Example of usage\n",
        "input_lyrics = 'I come from Alabama with a banjo on my knee, I’m going to Louisiana, my true love for to see It rained all night the day I left, the weather it was dry The sun so hot I froze to death; Susanna, don’t you cry. Oh, Susanna, don’t you cry for me cos’ I come from Alabama With my banjo on my knee. had a dream the other night when everything was still, I thought I saw Susanna coming up the hill, A buck wheat cake was in her mouth, a tear was in her eye, I said I’m coming from the south, Susanna don’t you cry. I soon will be in New Orleans and then I’ll look around And when I find my Susanna, I’ll fall upon the ground But if I do not find her, this man will surely die And when I’m dead and buried, Susanna don’t you cry.'\n",
        "predicted_genre = predict_genre(input_lyrics)\n",
        "print(\"Predicted Genre:\", predicted_genre)"
      ],
      "metadata": {
        "id": "jsqjBCt_kLx2"
      },
      "execution_count": null,
      "outputs": []
    },
    {
      "cell_type": "code",
      "source": [
        "# Function to predict the top three probable genres along with their probabilities\n",
        "def predict_genre_top_three(lyrics):\n",
        "    lyrics_vectorized = tfidf_vectorizer.transform([lyrics])\n",
        "    probabilities = model.predict_proba(lyrics_vectorized)[0]\n",
        "    top_three_indices = probabilities.argsort()[-3:][::-1]\n",
        "    top_three_genres = model.classes_[top_three_indices]\n",
        "    top_three_probabilities = probabilities[top_three_indices]\n",
        "    for genre, probability in zip(top_three_genres, top_three_probabilities):\n",
        "        print(\"Genre:\", genre, \"| Probability:\", probability)\n",
        "\n",
        "# Example of usage\n",
        "input_lyrics = 'When the music fades\\nAll is stripped away\\nAnd I simply come\\nLongin just to bring\\nSomething that is of worth\\nThat will bless Your heart\\nI will bring You more than a song\\nFor a song in itself\\nIs not what You have required\\nYou search much deeper within\\nThrough the ways things appear\\nYou are looking into my heart\\nI am comin back to the heart of worship\\nAnd it is all about You\\nIt is all about You, Jesus\\nI am sorry, Lord, for the thing I have made it\\nWhen it is all about You\\nIt is all about You, Jesus\\nKing of endless worth\\nNo one could express\\nHow much You deserve?\\nThough I am weak and poor\\nAll I have is Yours\\nEvery single breath\\nI will bring You more than a song\\nFor a song in itself\\nIs not what You have required\\nYou search much deeper within\\nThrough the way things appear\\nYou are looking into my heart, yeah\\nI am comin back to the heart of worship\\nAnd it is all about You\\nIt is all about You, Jesus\\nI am sorry, Lord, for the thing I have made it\\nWhen it is all about You\\nIt is all about You, Jesus\\nI am comin back to the heart of worship\\nCause it is all about You\\nIt is all about You, Jesus\\nI am sorry, Lord, for the thing I have made it\\nCause it is all about You\\nIt is all about You, Jesus, yeah\\nAll about You\\nI will bring You more than a song\\nI will bring You more than a song, more than a song\\nI will bring You more than a song\\nI will bring You more than a song (than a song)\\nYou are looking into my heart\\nYou are looking into my heart\\nYou are looking into my heart\\nInto my heart\\nI will bring You more than a song\\nI will bring You more than a song, yeah, yeah\\nI will bring You more than a song\\nI will bring You more than a song'\n",
        "predict_genre_top_three(input_lyrics)"
      ],
      "metadata": {
        "id": "CE7Na5J5lk78"
      },
      "execution_count": null,
      "outputs": []
    },
    {
      "cell_type": "code",
      "source": [
        "import joblib\n",
        "\n",
        "# Save the trained model to a file\n",
        "joblib.dump(model, 'trained_model.train')"
      ],
      "metadata": {
        "id": "BLqdp-yJnL1i"
      },
      "execution_count": null,
      "outputs": []
    },
    {
      "cell_type": "code",
      "source": [
        "# Load the trained model from the file\n",
        "loaded_model = joblib.load('trained_model.train')\n",
        "\n",
        "# Function to predict genre for given lyrics using the loaded model\n",
        "def predict_genre_loaded_model(lyrics):\n",
        "    lyrics_vectorized = tfidf_vectorizer.transform([lyrics])\n",
        "    genre = loaded_model.predict(lyrics_vectorized)\n",
        "    return genre[0]\n",
        "\n",
        "# Example of usage\n",
        "input_lyrics = 'When the days are cold\\nAnd the cards all fold\\nAnd the saints we see are all made of gold\\nWhen your dreams all fail\\nAnd the ones we hail\\nAre the worst of all, and the bloods run stale\\nI wanna hide the truth\\nI wanna shelter you\\nBut with the beast inside\\nTheres nowhere we can hide\\nNo matter what we breed\\nWe still are made of greed\\nThis is my kingdom come\\nThis is my kingdom come\\nWhen you feel my heat, look into my eyes\\nIts where my demons hide\\nIts where my demons hide\\nDont get too close, its dark inside\\nIts where my demons hide\\nIts where my demons hide\\nAt the curtains call\\nIts the last of all\\nWhen the lights fade out, all the sinners crawl\\nSo they dug your grave\\nAnd the masquerade\\nWill come calling out at the mess youve made\\nDont wanna let you down\\nBut I am hell-bound\\nThough this is all for you\\nDont wanna hide the truth\\nNo matter what we breed\\nWe still are made of greed\\nThis is my kingdom come\\nThis is my kingdom come\\nWhen you feel my heat, look into my eyes\\nIts where my demons hide\\nIts where my demons hide\\nDont get too close, its dark inside\\nIts where my demons hide\\nIts where my demons hide\\nThey say its what you make\\nI say its up to fate\\nIts woven in my soul\\nI need to let you go\\nYour eyes, they shine so bright\\nI wanna save that light\\nI cant escape this now\\nUnless you show me how\\nWhen you feel my heat, look into my eyes\\nIts where my demons hide\\nIts where my demons hide\\nDont get too close, its dark inside\\nIts where my demons hide\\nIts where my demons hide'\n",
        "predicted_genre_loaded_model = predict_genre_loaded_model(input_lyrics)\n",
        "print(\"Predicted Genre using loaded model:\", predicted_genre_loaded_model)"
      ],
      "metadata": {
        "id": "IewYfP-jnfA8"
      },
      "execution_count": null,
      "outputs": []
    },
    {
      "cell_type": "code",
      "source": [
        "# Function to preprocess the lyrics before use\n",
        "def clean_lyrics(lyrics):\n",
        "    cleaned_lyrics = lyrics.replace(\"'\", \"\")\n",
        "\n",
        "    cleaned_lyrics = cleaned_lyrics.replace(\"\\n\", \" \")\n",
        "\n",
        "    return cleaned_lyrics\n",
        "\n",
        "song_lyrics = \"\"\"\n",
        "It's way past restoring\n",
        "Lash out call it coping\n",
        "I should have known\n",
        "Yeah you keep me hoping\n",
        "This boat we've been rowing\n",
        "Is stuck on the shore\n",
        "We've spent a while in this uncertain space\n",
        "But I've realised that the pieces have changed\n",
        "Now that we're past the fun\n",
        "You don't bat an eye\n",
        "All that we were, undone\n",
        "You don't bat an eye\n",
        "Maybe we're overrun\n",
        "You don't bat an eye\n",
        "If you and me are done\n",
        "Why are you surprised\n",
        "Driving after midnight\n",
        "The rain on my headlight\n",
        "Got nowhere to go\n",
        "It' now that I realise\n",
        "The fun in the daylight\n",
        "We're footprints on snow\n",
        "We've spent a while in this uncertain space\n",
        "But I've realized that the pieces have changed\n",
        "Now that we're past the fun\n",
        "You don't bat an eye\n",
        "All that we were, undone\n",
        "You don't bat an eye\n",
        "Maybe we're overrun\n",
        "You don't bat an eye\n",
        "If you and me are done\n",
        "Why are you surprised\n",
        "Every time we fall in love\n",
        "Knowing that we'll fall out again\n",
        "That's okay, that's okay, that's okay\n",
        "Knowing that we'll fall back on\n",
        "Something that's just filled with pain\n",
        "Why won't it drive me insane\n",
        "Now that we're past the fun\n",
        "You don't bat an eye\n",
        "All that we were, undone\n",
        "You don't bat an eye\n",
        "Maybe we're overrun\n",
        "You don't bat an eye\n",
        "If you and me are done\n",
        "Why are you surprised\n",
        "\"\"\"\n",
        "cleaned_lyrics = clean_lyrics(song_lyrics)\n",
        "print(cleaned_lyrics)"
      ],
      "metadata": {
        "id": "12Z83u1JoAbM"
      },
      "execution_count": null,
      "outputs": []
    }
  ]
}